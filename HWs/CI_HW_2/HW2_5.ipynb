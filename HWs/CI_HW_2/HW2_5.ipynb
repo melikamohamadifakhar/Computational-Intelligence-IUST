{
  "nbformat": 4,
  "nbformat_minor": 0,
  "metadata": {
    "colab": {
      "provenance": []
    },
    "kernelspec": {
      "name": "python3",
      "display_name": "Python 3"
    },
    "language_info": {
      "name": "python"
    }
  },
  "cells": [
    {
      "cell_type": "code",
      "source": [
        "import numpy as np"
      ],
      "metadata": {
        "id": "o6CK2Y8PO-0u"
      },
      "execution_count": 1,
      "outputs": []
    },
    {
      "cell_type": "code",
      "source": [
        "input_x = np.array([[0, 0], [0, 1], [1, 0], [1, 1]])\n",
        "output_y = np.array([[1], [0], [0], [1]])"
      ],
      "metadata": {
        "id": "ACmS4yqCPA-x"
      },
      "execution_count": 2,
      "outputs": []
    },
    {
      "cell_type": "code",
      "source": [
        "# Structure of my MLP\n",
        "input_size = 2\n",
        "hidden_size = 4\n",
        "output_size = 1\n",
        "learning_rate = 0.1\n",
        "\n",
        "# Initialization\n",
        "np.random.seed(0)\n",
        "w1 = np.random.randn(input_size, hidden_size)\n",
        "b1 = np.zeros((1, hidden_size))\n",
        "w2 = np.random.randn(hidden_size, output_size)\n",
        "b2 = np.zeros((1, output_size))"
      ],
      "metadata": {
        "id": "6Q3oii5QPE3q"
      },
      "execution_count": 7,
      "outputs": []
    },
    {
      "cell_type": "code",
      "source": [
        "# Define my activation function and the drivative\n",
        "def sigmoid(x):\n",
        "    return 1 / (1 + np.exp(-x))\n",
        "\n",
        "def sigmoid_derivative(x):\n",
        "    return x * (1 - x)"
      ],
      "metadata": {
        "id": "2h6Zx5fSPOik"
      },
      "execution_count": 4,
      "outputs": []
    },
    {
      "cell_type": "code",
      "execution_count": 5,
      "metadata": {
        "colab": {
          "base_uri": "https://localhost:8080/"
        },
        "id": "7GwuuwLzNsLq",
        "outputId": "39582e6d-180f-48da-baea-c22fc5aba034"
      },
      "outputs": [
        {
          "output_type": "stream",
          "name": "stdout",
          "text": [
            "Epoch 0, Loss: 0.496056245511035\n",
            "Epoch 1000, Loss: 0.3923446900817431\n",
            "Epoch 2000, Loss: 0.22079588481204324\n",
            "Epoch 3000, Loss: 0.12337845340033848\n",
            "Epoch 4000, Loss: 0.08812264266118598\n"
          ]
        }
      ],
      "source": [
        "# Train\n",
        "epochs = 5000\n",
        "\n",
        "for epoch in range(epochs):\n",
        "    # Forward pass\n",
        "    layer1_input = np.dot(input_x, w1) + b1\n",
        "    layer1_output = sigmoid(layer1_input)\n",
        "    layer2_input = np.dot(layer1_output, w2) + b2\n",
        "    layer2_output = sigmoid(layer2_input)\n",
        "\n",
        "    # Back Propagation\n",
        "    loss = output_y - layer2_output\n",
        "    d_layer2 = loss * sigmoid_derivative(layer2_output)\n",
        "    d_layer1 = d_layer2.dot(w2.T) * sigmoid_derivative(layer1_output)\n",
        "\n",
        "    # Update\n",
        "    w2 += layer1_output.T.dot(d_layer2) * learning_rate\n",
        "    b2 += np.sum(d_layer2, axis=0, keepdims=True) * learning_rate\n",
        "    w1 += input_x.T.dot(d_layer1) * learning_rate\n",
        "    b1 += np.sum(d_layer1, axis=0, keepdims=True) * learning_rate\n",
        "\n",
        "    if epoch % 1000 == 0:\n",
        "      print(f'Epoch {epoch}, Loss: {np.mean(np.abs(loss))}')"
      ]
    },
    {
      "cell_type": "code",
      "source": [
        "# Test\n",
        "layer1_input = np.dot(input_x, w1) + b1\n",
        "layer1_output = sigmoid(layer1_input)\n",
        "layer2_input = np.dot(layer1_output, w2) + b2\n",
        "layer2_output = sigmoid(layer2_input)\n",
        "\n",
        "print(\"Predicted Output:\")\n",
        "print(layer2_output)\n"
      ],
      "metadata": {
        "colab": {
          "base_uri": "https://localhost:8080/"
        },
        "id": "EM363vjaOIVz",
        "outputId": "f8617c7d-1ace-4a26-cb0e-57cde0962caf"
      },
      "execution_count": 6,
      "outputs": [
        {
          "output_type": "stream",
          "name": "stdout",
          "text": [
            "Predicted Output:\n",
            "[[0.95410832]\n",
            " [0.07172561]\n",
            " [0.07408679]\n",
            " [0.90962158]]\n"
          ]
        }
      ]
    },
    {
      "cell_type": "code",
      "source": [],
      "metadata": {
        "id": "N-nw4WlKoXyu"
      },
      "execution_count": null,
      "outputs": []
    }
  ]
}