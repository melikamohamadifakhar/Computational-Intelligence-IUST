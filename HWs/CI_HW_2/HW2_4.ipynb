{
  "cells": [
    {
      "cell_type": "markdown",
      "metadata": {
        "id": "mqg4KSj_8Nz1"
      },
      "source": [
        "# In this notebook, we run an MLP model on dataset hoda and examine the results in terms of underfitting, fitting and overfitting."
      ]
    },
    {
      "cell_type": "markdown",
      "metadata": {
        "id": "IVk_5eoO76sj"
      },
      "source": [
        "## Download dataset"
      ]
    },
    {
      "cell_type": "code",
      "execution_count": null,
      "metadata": {
        "colab": {
          "base_uri": "https://localhost:8080/"
        },
        "id": "TjoQGt01Ujx1",
        "outputId": "81d07309-da30-40b9-c947-a5def918a1d6"
      },
      "outputs": [
        {
          "output_type": "stream",
          "name": "stdout",
          "text": [
            "Downloading...\n",
            "From: https://drive.google.com/uc?id=1QJrQsEYOfPBn1LoIeYMZ2HFBRC0AY-6F\n",
            "To: /content/dataset.py\n",
            "100% 909/909 [00:00<00:00, 3.78MB/s]\n",
            "Downloading...\n",
            "From: https://drive.google.com/uc?id=1zStcaVl_34RrYIfVObuM4xzB6s8xwvBi\n",
            "To: /content/Data_hoda_full.mat\n",
            "100% 3.99M/3.99M [00:00<00:00, 169MB/s]\n"
          ]
        }
      ],
      "source": [
        "!gdown --fuzzy https://drive.google.com/file/d/1QJrQsEYOfPBn1LoIeYMZ2HFBRC0AY-6F/view?usp=sharing\n",
        "!gdown --fuzzy https://drive.google.com/file/d/1zStcaVl_34RrYIfVObuM4xzB6s8xwvBi/view?usp=sharing"
      ]
    },
    {
      "cell_type": "markdown",
      "metadata": {
        "id": "ruebTHNSBqRD"
      },
      "source": [
        "## Importing libraries"
      ]
    },
    {
      "cell_type": "code",
      "execution_count": null,
      "metadata": {
        "id": "WhoXKRptiRDe"
      },
      "outputs": [],
      "source": [
        "import keras\n",
        "import numpy as np\n",
        "import matplotlib.pyplot as plt\n",
        "\n",
        "from keras.models import Sequential\n",
        "from keras.layers import Dense,  Activation\n",
        "from dataset import load_hoda"
      ]
    },
    {
      "cell_type": "markdown",
      "metadata": {
        "id": "ku75DKlg_f9y"
      },
      "source": [
        "# Load dataset"
      ]
    },
    {
      "cell_type": "code",
      "execution_count": null,
      "metadata": {
        "id": "4D7VhBCKiVWl"
      },
      "outputs": [],
      "source": [
        "x_train_original, y_train_original, x_test_original, y_test_original = load_hoda()"
      ]
    },
    {
      "cell_type": "markdown",
      "metadata": {
        "id": "Wruhn4AmB5zC"
      },
      "source": [
        "### Converting x_train and x_test to ndarray array format and converting y_train and y_test to one-hot-encoding:\n",
        "####First, we have defined a simple function that prints the dimensions, data type and information of the loaded dataset. We will print this information before and after data preprocessing to notice the changes!"
      ]
    },
    {
      "cell_type": "code",
      "execution_count": null,
      "metadata": {
        "id": "nbSZTm93iVb9"
      },
      "outputs": [],
      "source": [
        "# Preprocess input data for Keras.\n",
        "x_train = np.array(x_train_original)\n",
        "y_train = keras.utils.to_categorical(y_train_original, num_classes=10)\n",
        "x_test = np.array(x_test_original)\n",
        "y_test = keras.utils.to_categorical(y_test_original, num_classes=10)"
      ]
    },
    {
      "cell_type": "code",
      "execution_count": null,
      "metadata": {
        "id": "u5Gvz63iiVZV"
      },
      "outputs": [],
      "source": [
        "def print_data_info(x_train, y_train, x_test, y_test):\n",
        "    #Check data Type\n",
        "    print (\"\\ttype(x_train): {}\".format(type(x_train)))\n",
        "    print (\"\\ttype(y_train): {}\".format(type(y_train)))\n",
        "\n",
        "    #check data Shape\n",
        "    print (\"\\tx_train.shape: {}\".format(np.shape(x_train)))\n",
        "    print (\"\\ty_train.shape: {}\".format(np.shape(y_train)))\n",
        "    print (\"\\tx_test.shape: {}\".format(np.shape(x_test)))\n",
        "    print (\"\\ty_test.shape: {}\".format(np.shape(y_test)))\n",
        "\n",
        "    #sample data\n",
        "    print (\"\\ty_train[0]: {}\".format(y_train[0]))"
      ]
    },
    {
      "cell_type": "code",
      "execution_count": null,
      "metadata": {
        "colab": {
          "base_uri": "https://localhost:8080/"
        },
        "id": "0C5eJsmeiVe2",
        "outputId": "e030d500-1eaf-47ac-f39e-7553b30f2a38"
      },
      "outputs": [
        {
          "output_type": "stream",
          "name": "stdout",
          "text": [
            "Before Preprocessing:\n",
            "\ttype(x_train): <class 'numpy.ndarray'>\n",
            "\ttype(y_train): <class 'numpy.ndarray'>\n",
            "\tx_train.shape: (1000, 25)\n",
            "\ty_train.shape: (1000,)\n",
            "\tx_test.shape: (200, 25)\n",
            "\ty_test.shape: (200,)\n",
            "\ty_train[0]: 6\n",
            "After Preprocessing:\n",
            "\ttype(x_train): <class 'numpy.ndarray'>\n",
            "\ttype(y_train): <class 'numpy.ndarray'>\n",
            "\tx_train.shape: (1000, 25)\n",
            "\ty_train.shape: (1000, 10)\n",
            "\tx_test.shape: (200, 25)\n",
            "\ty_test.shape: (200, 10)\n",
            "\ty_train[0]: [0. 0. 0. 0. 0. 0. 1. 0. 0. 0.]\n"
          ]
        }
      ],
      "source": [
        "print(\"Before Preprocessing:\")\n",
        "print_data_info(x_train_original, y_train_original, x_test_original, y_test_original)\n",
        "print(\"After Preprocessing:\")\n",
        "print_data_info(x_train, y_train, x_test, y_test)"
      ]
    },
    {
      "cell_type": "code",
      "execution_count": null,
      "metadata": {
        "id": "ignnQ8cqidv_"
      },
      "outputs": [],
      "source": [
        "x_train = x_train.astype('float32')\n",
        "x_test = x_test.astype('float32')\n",
        "x_train /= 255\n",
        "x_test /= 255"
      ]
    },
    {
      "cell_type": "code",
      "execution_count": null,
      "metadata": {
        "id": "cEQisVlqidyt"
      },
      "outputs": [],
      "source": [
        "# In this Create the model, input dim=25 and output dim = 10\n",
        "\n",
        "##################################\n",
        "# you code here\n",
        "##################################\n",
        "# model = ...\n",
        "model = Sequential()\n",
        "model.add(Dense(128, input_dim=25))\n",
        "model.add(Activation('relu'))\n",
        "model.add(Dense(64))\n",
        "model.add(Activation('relu'))\n",
        "model.add(Dense(10))\n",
        "model.add(Activation('softmax'))"
      ]
    },
    {
      "cell_type": "code",
      "execution_count": null,
      "metadata": {
        "id": "gk4rIwjbid3W",
        "colab": {
          "base_uri": "https://localhost:8080/"
        },
        "outputId": "e2e35d78-a229-4b3b-9002-7c61c7081755"
      },
      "outputs": [
        {
          "output_type": "stream",
          "name": "stdout",
          "text": [
            "Model: \"sequential\"\n",
            "_________________________________________________________________\n",
            " Layer (type)                Output Shape              Param #   \n",
            "=================================================================\n",
            " dense (Dense)               (None, 128)               3328      \n",
            "                                                                 \n",
            " activation (Activation)     (None, 128)               0         \n",
            "                                                                 \n",
            " dense_1 (Dense)             (None, 64)                8256      \n",
            "                                                                 \n",
            " activation_1 (Activation)   (None, 64)                0         \n",
            "                                                                 \n",
            " dense_2 (Dense)             (None, 10)                650       \n",
            "                                                                 \n",
            " activation_2 (Activation)   (None, 10)                0         \n",
            "                                                                 \n",
            "=================================================================\n",
            "Total params: 12234 (47.79 KB)\n",
            "Trainable params: 12234 (47.79 KB)\n",
            "Non-trainable params: 0 (0.00 Byte)\n",
            "_________________________________________________________________\n"
          ]
        }
      ],
      "source": [
        "model.summary()"
      ]
    },
    {
      "cell_type": "markdown",
      "metadata": {
        "id": "XVBSerPdCxnL"
      },
      "source": [
        "## Compile model"
      ]
    },
    {
      "cell_type": "code",
      "execution_count": null,
      "metadata": {
        "id": "ZJVfanv2id52"
      },
      "outputs": [],
      "source": [
        "# In this cell compile mode, set loss function and optimizer and get metrics accuracy\n",
        "\n",
        "##################################\n",
        "# you code here\n",
        "##################################\n",
        "model.compile(loss='categorical_crossentropy', optimizer='adam', metrics=['accuracy'])"
      ]
    },
    {
      "cell_type": "markdown",
      "metadata": {
        "id": "Uz92ZcWOJFFU"
      },
      "source": [
        "## Fit model"
      ]
    },
    {
      "cell_type": "code",
      "execution_count": null,
      "metadata": {
        "id": "ZaKtROcxinbV",
        "colab": {
          "base_uri": "https://localhost:8080/"
        },
        "outputId": "3a875914-a74c-4017-968a-8470712bf586"
      },
      "outputs": [
        {
          "output_type": "stream",
          "name": "stdout",
          "text": [
            "Epoch 1/100\n",
            "16/16 [==============================] - 1s 18ms/step - loss: 2.2207 - accuracy: 0.2240 - val_loss: 2.0704 - val_accuracy: 0.3800\n",
            "Epoch 2/100\n",
            "16/16 [==============================] - 0s 5ms/step - loss: 1.8833 - accuracy: 0.5570 - val_loss: 1.7007 - val_accuracy: 0.6400\n",
            "Epoch 3/100\n",
            "16/16 [==============================] - 0s 5ms/step - loss: 1.4560 - accuracy: 0.7270 - val_loss: 1.2466 - val_accuracy: 0.7600\n",
            "Epoch 4/100\n",
            "16/16 [==============================] - 0s 4ms/step - loss: 1.0017 - accuracy: 0.7890 - val_loss: 0.8553 - val_accuracy: 0.8200\n",
            "Epoch 5/100\n",
            "16/16 [==============================] - 0s 5ms/step - loss: 0.6992 - accuracy: 0.8400 - val_loss: 0.6441 - val_accuracy: 0.8450\n",
            "Epoch 6/100\n",
            "16/16 [==============================] - 0s 5ms/step - loss: 0.5420 - accuracy: 0.8570 - val_loss: 0.5142 - val_accuracy: 0.8700\n",
            "Epoch 7/100\n",
            "16/16 [==============================] - 0s 4ms/step - loss: 0.4471 - accuracy: 0.8800 - val_loss: 0.4475 - val_accuracy: 0.8850\n",
            "Epoch 8/100\n",
            "16/16 [==============================] - 0s 5ms/step - loss: 0.3924 - accuracy: 0.8820 - val_loss: 0.4123 - val_accuracy: 0.8800\n",
            "Epoch 9/100\n",
            "16/16 [==============================] - 0s 5ms/step - loss: 0.3496 - accuracy: 0.9010 - val_loss: 0.3763 - val_accuracy: 0.8950\n",
            "Epoch 10/100\n",
            "16/16 [==============================] - 0s 6ms/step - loss: 0.3230 - accuracy: 0.9070 - val_loss: 0.3475 - val_accuracy: 0.9000\n",
            "Epoch 11/100\n",
            "16/16 [==============================] - 0s 4ms/step - loss: 0.3010 - accuracy: 0.9120 - val_loss: 0.3436 - val_accuracy: 0.8950\n",
            "Epoch 12/100\n",
            "16/16 [==============================] - 0s 5ms/step - loss: 0.2781 - accuracy: 0.9040 - val_loss: 0.3111 - val_accuracy: 0.9150\n",
            "Epoch 13/100\n",
            "16/16 [==============================] - 0s 4ms/step - loss: 0.2596 - accuracy: 0.9230 - val_loss: 0.3057 - val_accuracy: 0.9050\n",
            "Epoch 14/100\n",
            "16/16 [==============================] - 0s 4ms/step - loss: 0.2436 - accuracy: 0.9280 - val_loss: 0.2887 - val_accuracy: 0.9250\n",
            "Epoch 15/100\n",
            "16/16 [==============================] - 0s 5ms/step - loss: 0.2333 - accuracy: 0.9280 - val_loss: 0.2841 - val_accuracy: 0.9200\n",
            "Epoch 16/100\n",
            "16/16 [==============================] - 0s 4ms/step - loss: 0.2277 - accuracy: 0.9290 - val_loss: 0.2783 - val_accuracy: 0.9250\n",
            "Epoch 17/100\n",
            "16/16 [==============================] - 0s 5ms/step - loss: 0.2141 - accuracy: 0.9310 - val_loss: 0.2686 - val_accuracy: 0.9250\n",
            "Epoch 18/100\n",
            "16/16 [==============================] - 0s 4ms/step - loss: 0.1995 - accuracy: 0.9400 - val_loss: 0.2594 - val_accuracy: 0.9250\n",
            "Epoch 19/100\n",
            "16/16 [==============================] - 0s 5ms/step - loss: 0.1907 - accuracy: 0.9480 - val_loss: 0.2635 - val_accuracy: 0.9250\n",
            "Epoch 20/100\n",
            "16/16 [==============================] - 0s 5ms/step - loss: 0.1832 - accuracy: 0.9490 - val_loss: 0.2541 - val_accuracy: 0.9300\n",
            "Epoch 21/100\n",
            "16/16 [==============================] - 0s 5ms/step - loss: 0.1766 - accuracy: 0.9490 - val_loss: 0.2454 - val_accuracy: 0.9350\n",
            "Epoch 22/100\n",
            "16/16 [==============================] - 0s 4ms/step - loss: 0.1675 - accuracy: 0.9530 - val_loss: 0.2432 - val_accuracy: 0.9350\n",
            "Epoch 23/100\n",
            "16/16 [==============================] - 0s 5ms/step - loss: 0.1623 - accuracy: 0.9570 - val_loss: 0.2437 - val_accuracy: 0.9350\n",
            "Epoch 24/100\n",
            "16/16 [==============================] - 0s 4ms/step - loss: 0.1567 - accuracy: 0.9550 - val_loss: 0.2433 - val_accuracy: 0.9350\n",
            "Epoch 25/100\n",
            "16/16 [==============================] - 0s 4ms/step - loss: 0.1477 - accuracy: 0.9610 - val_loss: 0.2365 - val_accuracy: 0.9500\n",
            "Epoch 26/100\n",
            "16/16 [==============================] - 0s 4ms/step - loss: 0.1444 - accuracy: 0.9560 - val_loss: 0.2372 - val_accuracy: 0.9350\n",
            "Epoch 27/100\n",
            "16/16 [==============================] - 0s 5ms/step - loss: 0.1403 - accuracy: 0.9650 - val_loss: 0.2383 - val_accuracy: 0.9450\n",
            "Epoch 28/100\n",
            "16/16 [==============================] - 0s 4ms/step - loss: 0.1338 - accuracy: 0.9660 - val_loss: 0.2316 - val_accuracy: 0.9500\n",
            "Epoch 29/100\n",
            "16/16 [==============================] - 0s 5ms/step - loss: 0.1270 - accuracy: 0.9690 - val_loss: 0.2356 - val_accuracy: 0.9450\n",
            "Epoch 30/100\n",
            "16/16 [==============================] - 0s 4ms/step - loss: 0.1259 - accuracy: 0.9670 - val_loss: 0.2309 - val_accuracy: 0.9350\n",
            "Epoch 31/100\n",
            "16/16 [==============================] - 0s 4ms/step - loss: 0.1199 - accuracy: 0.9710 - val_loss: 0.2371 - val_accuracy: 0.9500\n",
            "Epoch 32/100\n",
            "16/16 [==============================] - 0s 5ms/step - loss: 0.1142 - accuracy: 0.9760 - val_loss: 0.2319 - val_accuracy: 0.9400\n",
            "Epoch 33/100\n",
            "16/16 [==============================] - 0s 5ms/step - loss: 0.1139 - accuracy: 0.9690 - val_loss: 0.2531 - val_accuracy: 0.9250\n",
            "Epoch 34/100\n",
            "16/16 [==============================] - 0s 5ms/step - loss: 0.1083 - accuracy: 0.9750 - val_loss: 0.2297 - val_accuracy: 0.9450\n",
            "Epoch 35/100\n",
            "16/16 [==============================] - 0s 5ms/step - loss: 0.1039 - accuracy: 0.9760 - val_loss: 0.2406 - val_accuracy: 0.9350\n",
            "Epoch 36/100\n",
            "16/16 [==============================] - 0s 5ms/step - loss: 0.1024 - accuracy: 0.9720 - val_loss: 0.2306 - val_accuracy: 0.9500\n",
            "Epoch 37/100\n",
            "16/16 [==============================] - 0s 4ms/step - loss: 0.0989 - accuracy: 0.9750 - val_loss: 0.2396 - val_accuracy: 0.9400\n",
            "Epoch 38/100\n",
            "16/16 [==============================] - 0s 5ms/step - loss: 0.0962 - accuracy: 0.9740 - val_loss: 0.2246 - val_accuracy: 0.9600\n",
            "Epoch 39/100\n",
            "16/16 [==============================] - 0s 5ms/step - loss: 0.0918 - accuracy: 0.9800 - val_loss: 0.2277 - val_accuracy: 0.9500\n",
            "Epoch 40/100\n",
            "16/16 [==============================] - 0s 4ms/step - loss: 0.0871 - accuracy: 0.9820 - val_loss: 0.2356 - val_accuracy: 0.9600\n",
            "Epoch 41/100\n",
            "16/16 [==============================] - 0s 4ms/step - loss: 0.0838 - accuracy: 0.9830 - val_loss: 0.2253 - val_accuracy: 0.9550\n",
            "Epoch 42/100\n",
            "16/16 [==============================] - 0s 4ms/step - loss: 0.0799 - accuracy: 0.9840 - val_loss: 0.2324 - val_accuracy: 0.9500\n",
            "Epoch 43/100\n",
            "16/16 [==============================] - 0s 6ms/step - loss: 0.0777 - accuracy: 0.9860 - val_loss: 0.2282 - val_accuracy: 0.9550\n",
            "Epoch 44/100\n",
            "16/16 [==============================] - 0s 5ms/step - loss: 0.0760 - accuracy: 0.9860 - val_loss: 0.2340 - val_accuracy: 0.9450\n",
            "Epoch 45/100\n",
            "16/16 [==============================] - 0s 5ms/step - loss: 0.0747 - accuracy: 0.9820 - val_loss: 0.2314 - val_accuracy: 0.9500\n",
            "Epoch 46/100\n",
            "16/16 [==============================] - 0s 5ms/step - loss: 0.0718 - accuracy: 0.9850 - val_loss: 0.2369 - val_accuracy: 0.9500\n",
            "Epoch 47/100\n",
            "16/16 [==============================] - 0s 4ms/step - loss: 0.0689 - accuracy: 0.9880 - val_loss: 0.2287 - val_accuracy: 0.9500\n",
            "Epoch 48/100\n",
            "16/16 [==============================] - 0s 5ms/step - loss: 0.0687 - accuracy: 0.9870 - val_loss: 0.2357 - val_accuracy: 0.9450\n",
            "Epoch 49/100\n",
            "16/16 [==============================] - 0s 4ms/step - loss: 0.0660 - accuracy: 0.9860 - val_loss: 0.2297 - val_accuracy: 0.9500\n",
            "Epoch 50/100\n",
            "16/16 [==============================] - 0s 5ms/step - loss: 0.0619 - accuracy: 0.9900 - val_loss: 0.2413 - val_accuracy: 0.9450\n",
            "Epoch 51/100\n",
            "16/16 [==============================] - 0s 5ms/step - loss: 0.0612 - accuracy: 0.9890 - val_loss: 0.2320 - val_accuracy: 0.9500\n",
            "Epoch 52/100\n",
            "16/16 [==============================] - 0s 4ms/step - loss: 0.0617 - accuracy: 0.9890 - val_loss: 0.2352 - val_accuracy: 0.9500\n",
            "Epoch 53/100\n",
            "16/16 [==============================] - 0s 4ms/step - loss: 0.0609 - accuracy: 0.9860 - val_loss: 0.2348 - val_accuracy: 0.9500\n",
            "Epoch 54/100\n",
            "16/16 [==============================] - 0s 4ms/step - loss: 0.0544 - accuracy: 0.9920 - val_loss: 0.2374 - val_accuracy: 0.9500\n",
            "Epoch 55/100\n",
            "16/16 [==============================] - 0s 4ms/step - loss: 0.0544 - accuracy: 0.9880 - val_loss: 0.2338 - val_accuracy: 0.9500\n",
            "Epoch 56/100\n",
            "16/16 [==============================] - 0s 5ms/step - loss: 0.0512 - accuracy: 0.9920 - val_loss: 0.2427 - val_accuracy: 0.9400\n",
            "Epoch 57/100\n",
            "16/16 [==============================] - 0s 4ms/step - loss: 0.0523 - accuracy: 0.9920 - val_loss: 0.2394 - val_accuracy: 0.9450\n",
            "Epoch 58/100\n",
            "16/16 [==============================] - 0s 5ms/step - loss: 0.0518 - accuracy: 0.9900 - val_loss: 0.2459 - val_accuracy: 0.9500\n",
            "Epoch 59/100\n",
            "16/16 [==============================] - 0s 5ms/step - loss: 0.0530 - accuracy: 0.9910 - val_loss: 0.2387 - val_accuracy: 0.9550\n",
            "Epoch 60/100\n",
            "16/16 [==============================] - 0s 5ms/step - loss: 0.0471 - accuracy: 0.9900 - val_loss: 0.2389 - val_accuracy: 0.9400\n",
            "Epoch 61/100\n",
            "16/16 [==============================] - 0s 5ms/step - loss: 0.0470 - accuracy: 0.9930 - val_loss: 0.2465 - val_accuracy: 0.9550\n",
            "Epoch 62/100\n",
            "16/16 [==============================] - 0s 4ms/step - loss: 0.0459 - accuracy: 0.9940 - val_loss: 0.2417 - val_accuracy: 0.9500\n",
            "Epoch 63/100\n",
            "16/16 [==============================] - 0s 4ms/step - loss: 0.0432 - accuracy: 0.9960 - val_loss: 0.2410 - val_accuracy: 0.9500\n",
            "Epoch 64/100\n",
            "16/16 [==============================] - 0s 5ms/step - loss: 0.0420 - accuracy: 0.9950 - val_loss: 0.2410 - val_accuracy: 0.9450\n",
            "Epoch 65/100\n",
            "16/16 [==============================] - 0s 4ms/step - loss: 0.0412 - accuracy: 0.9960 - val_loss: 0.2539 - val_accuracy: 0.9450\n",
            "Epoch 66/100\n",
            "16/16 [==============================] - 0s 5ms/step - loss: 0.0406 - accuracy: 0.9950 - val_loss: 0.2414 - val_accuracy: 0.9500\n",
            "Epoch 67/100\n",
            "16/16 [==============================] - 0s 5ms/step - loss: 0.0388 - accuracy: 0.9970 - val_loss: 0.2519 - val_accuracy: 0.9450\n",
            "Epoch 68/100\n",
            "16/16 [==============================] - 0s 6ms/step - loss: 0.0367 - accuracy: 0.9980 - val_loss: 0.2490 - val_accuracy: 0.9450\n",
            "Epoch 69/100\n",
            "16/16 [==============================] - 0s 5ms/step - loss: 0.0354 - accuracy: 0.9970 - val_loss: 0.2504 - val_accuracy: 0.9450\n",
            "Epoch 70/100\n",
            "16/16 [==============================] - 0s 5ms/step - loss: 0.0363 - accuracy: 0.9950 - val_loss: 0.2531 - val_accuracy: 0.9400\n",
            "Epoch 71/100\n",
            "16/16 [==============================] - 0s 4ms/step - loss: 0.0342 - accuracy: 0.9960 - val_loss: 0.2448 - val_accuracy: 0.9450\n",
            "Epoch 72/100\n",
            "16/16 [==============================] - 0s 4ms/step - loss: 0.0319 - accuracy: 0.9970 - val_loss: 0.2545 - val_accuracy: 0.9450\n",
            "Epoch 73/100\n",
            "16/16 [==============================] - 0s 5ms/step - loss: 0.0317 - accuracy: 0.9970 - val_loss: 0.2508 - val_accuracy: 0.9400\n",
            "Epoch 74/100\n",
            "16/16 [==============================] - 0s 5ms/step - loss: 0.0300 - accuracy: 0.9980 - val_loss: 0.2529 - val_accuracy: 0.9400\n",
            "Epoch 75/100\n",
            "16/16 [==============================] - 0s 5ms/step - loss: 0.0298 - accuracy: 0.9970 - val_loss: 0.2563 - val_accuracy: 0.9450\n",
            "Epoch 76/100\n",
            "16/16 [==============================] - 0s 5ms/step - loss: 0.0298 - accuracy: 0.9960 - val_loss: 0.2507 - val_accuracy: 0.9400\n",
            "Epoch 77/100\n",
            "16/16 [==============================] - 0s 4ms/step - loss: 0.0275 - accuracy: 0.9980 - val_loss: 0.2565 - val_accuracy: 0.9400\n",
            "Epoch 78/100\n",
            "16/16 [==============================] - 0s 4ms/step - loss: 0.0267 - accuracy: 0.9980 - val_loss: 0.2550 - val_accuracy: 0.9400\n",
            "Epoch 79/100\n",
            "16/16 [==============================] - 0s 4ms/step - loss: 0.0278 - accuracy: 0.9980 - val_loss: 0.2601 - val_accuracy: 0.9450\n",
            "Epoch 80/100\n",
            "16/16 [==============================] - 0s 4ms/step - loss: 0.0263 - accuracy: 0.9960 - val_loss: 0.2585 - val_accuracy: 0.9450\n",
            "Epoch 81/100\n",
            "16/16 [==============================] - 0s 5ms/step - loss: 0.0259 - accuracy: 0.9970 - val_loss: 0.2553 - val_accuracy: 0.9450\n",
            "Epoch 82/100\n",
            "16/16 [==============================] - 0s 4ms/step - loss: 0.0240 - accuracy: 0.9980 - val_loss: 0.2687 - val_accuracy: 0.9350\n",
            "Epoch 83/100\n",
            "16/16 [==============================] - 0s 4ms/step - loss: 0.0242 - accuracy: 0.9980 - val_loss: 0.2564 - val_accuracy: 0.9450\n",
            "Epoch 84/100\n",
            "16/16 [==============================] - 0s 4ms/step - loss: 0.0223 - accuracy: 0.9980 - val_loss: 0.2675 - val_accuracy: 0.9350\n",
            "Epoch 85/100\n",
            "16/16 [==============================] - 0s 5ms/step - loss: 0.0222 - accuracy: 0.9980 - val_loss: 0.2632 - val_accuracy: 0.9400\n",
            "Epoch 86/100\n",
            "16/16 [==============================] - 0s 5ms/step - loss: 0.0211 - accuracy: 0.9980 - val_loss: 0.2643 - val_accuracy: 0.9400\n",
            "Epoch 87/100\n",
            "16/16 [==============================] - 0s 4ms/step - loss: 0.0218 - accuracy: 0.9980 - val_loss: 0.2649 - val_accuracy: 0.9400\n",
            "Epoch 88/100\n",
            "16/16 [==============================] - 0s 5ms/step - loss: 0.0217 - accuracy: 0.9970 - val_loss: 0.2681 - val_accuracy: 0.9350\n",
            "Epoch 89/100\n",
            "16/16 [==============================] - 0s 4ms/step - loss: 0.0197 - accuracy: 0.9980 - val_loss: 0.2698 - val_accuracy: 0.9350\n",
            "Epoch 90/100\n",
            "16/16 [==============================] - 0s 4ms/step - loss: 0.0199 - accuracy: 0.9980 - val_loss: 0.2641 - val_accuracy: 0.9400\n",
            "Epoch 91/100\n",
            "16/16 [==============================] - 0s 5ms/step - loss: 0.0186 - accuracy: 0.9980 - val_loss: 0.2694 - val_accuracy: 0.9450\n",
            "Epoch 92/100\n",
            "16/16 [==============================] - 0s 4ms/step - loss: 0.0176 - accuracy: 0.9980 - val_loss: 0.2661 - val_accuracy: 0.9400\n",
            "Epoch 93/100\n",
            "16/16 [==============================] - 0s 5ms/step - loss: 0.0174 - accuracy: 0.9980 - val_loss: 0.2650 - val_accuracy: 0.9450\n",
            "Epoch 94/100\n",
            "16/16 [==============================] - 0s 5ms/step - loss: 0.0181 - accuracy: 0.9980 - val_loss: 0.2696 - val_accuracy: 0.9350\n",
            "Epoch 95/100\n",
            "16/16 [==============================] - 0s 5ms/step - loss: 0.0162 - accuracy: 0.9990 - val_loss: 0.2696 - val_accuracy: 0.9400\n",
            "Epoch 96/100\n",
            "16/16 [==============================] - 0s 5ms/step - loss: 0.0160 - accuracy: 0.9980 - val_loss: 0.2740 - val_accuracy: 0.9400\n",
            "Epoch 97/100\n",
            "16/16 [==============================] - 0s 7ms/step - loss: 0.0153 - accuracy: 0.9990 - val_loss: 0.2753 - val_accuracy: 0.9400\n",
            "Epoch 98/100\n",
            "16/16 [==============================] - 0s 7ms/step - loss: 0.0154 - accuracy: 0.9990 - val_loss: 0.2717 - val_accuracy: 0.9350\n",
            "Epoch 99/100\n",
            "16/16 [==============================] - 0s 7ms/step - loss: 0.0156 - accuracy: 0.9990 - val_loss: 0.2722 - val_accuracy: 0.9400\n",
            "Epoch 100/100\n",
            "16/16 [==============================] - 0s 8ms/step - loss: 0.0152 - accuracy: 1.0000 - val_loss: 0.2756 - val_accuracy: 0.9450\n"
          ]
        }
      ],
      "source": [
        "MLP_model = model.fit(x_train, y_train,\n",
        "          epochs=100,\n",
        "          batch_size=64, validation_data=(x_test, y_test))"
      ]
    },
    {
      "cell_type": "code",
      "execution_count": null,
      "metadata": {
        "colab": {
          "base_uri": "https://localhost:8080/",
          "height": 448
        },
        "id": "SveCNiLkisTF",
        "outputId": "5756ffde-f272-4694-8d4b-f20e8309f120"
      },
      "outputs": [
        {
          "output_type": "execute_result",
          "data": {
            "text/plain": [
              "[<matplotlib.lines.Line2D at 0x791a7c419600>]"
            ]
          },
          "metadata": {},
          "execution_count": 12
        },
        {
          "output_type": "display_data",
          "data": {
            "text/plain": [
              "<Figure size 640x480 with 1 Axes>"
            ],
            "image/png": "[encoded data removed]"
          },
          "metadata": {}
        }
      ],
      "source": [
        "# plot Loss\n",
        "plt.plot(MLP_model.history[\"loss\"])\n",
        "plt.plot(MLP_model.history[\"val_loss\"])"
      ]
    },
    {
      "cell_type": "code",
      "execution_count": null,
      "metadata": {
        "colab": {
          "base_uri": "https://localhost:8080/",
          "height": 448
        },
        "id": "Cx3VubunisVh",
        "outputId": "6e1f5bea-9420-49c5-f9d8-d9d04d97df6f"
      },
      "outputs": [
        {
          "output_type": "execute_result",
          "data": {
            "text/plain": [
              "[<matplotlib.lines.Line2D at 0x791a7c2025f0>]"
            ]
          },
          "metadata": {},
          "execution_count": 15
        },
        {
          "output_type": "display_data",
          "data": {
            "text/plain": [
              "<Figure size 640x480 with 1 Axes>"
            ],
            "image/png": "[encoded data removed]"
          },
          "metadata": {}
        }
      ],
      "source": [
        "# plot accuracy\n",
        "plt.plot(MLP_model.history[\"accuracy\"])\n",
        "plt.plot(MLP_model.history[\"val_accuracy\"])"
      ]
    },
    {
      "cell_type": "code",
      "source": [],
      "metadata": {
        "id": "PJ_JTQ-kLiuC"
      },
      "execution_count": null,
      "outputs": []
    }
  ],
  "metadata": {
    "colab": {
      "provenance": []
    },
    "kernelspec": {
      "display_name": "Python 3",
      "name": "python3"
    },
    "language_info": {
      "name": "python"
    }
  },
  "nbformat": 4,
  "nbformat_minor": 0
}