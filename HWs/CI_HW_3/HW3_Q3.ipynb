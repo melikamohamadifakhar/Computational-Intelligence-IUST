{
  "nbformat": 4,
  "nbformat_minor": 0,
  "metadata": {
    "colab": {
      "provenance": []
    },
    "kernelspec": {
      "name": "python3",
      "display_name": "Python 3"
    },
    "language_info": {
      "name": "python"
    }
  },
  "cells": [
    {
      "cell_type": "markdown",
      "source": [
        "*Imports*"
      ],
      "metadata": {
        "id": "0-wSej-xpG7k"
      }
    },
    {
      "cell_type": "code",
      "source": [
        "import numpy as np\n",
        "import matplotlib.pyplot as plt"
      ],
      "metadata": {
        "id": "-iOaiqAYpLAI"
      },
      "execution_count": 29,
      "outputs": []
    },
    {
      "cell_type": "markdown",
      "source": [
        "Generate Train Data and Labels"
      ],
      "metadata": {
        "id": "iIcKHtQ5pShy"
      }
    },
    {
      "cell_type": "code",
      "execution_count": 30,
      "metadata": {
        "id": "AC_BG8sPddCQ"
      },
      "outputs": [],
      "source": [
        "np.random.seed(42)\n",
        "X = np.random.uniform(-3, 3, (1000, 1))  # 1000 Input data in range (-3, 3)\n",
        "y = X ** 2"
      ]
    },
    {
      "cell_type": "markdown",
      "source": [
        "MLP Architecture + Initialize Weights and Biases"
      ],
      "metadata": {
        "id": "2bxUDUmgplRE"
      }
    },
    {
      "cell_type": "code",
      "source": [
        "input_size = 1\n",
        "hidden_size = 10\n",
        "output_size = 1\n",
        "\n",
        "weights_input_hidden = np.random.rand(input_size, hidden_size)\n",
        "bias_hidden = np.zeros((1, hidden_size))\n",
        "weights_hidden_output = np.random.rand(hidden_size, output_size)\n",
        "bias_output = np.zeros((1, output_size))"
      ],
      "metadata": {
        "id": "ieYJ3WbRpeGV"
      },
      "execution_count": 31,
      "outputs": []
    },
    {
      "cell_type": "markdown",
      "source": [
        "Trainting the MLP"
      ],
      "metadata": {
        "id": "Oocu1lcEp1Qd"
      }
    },
    {
      "cell_type": "code",
      "source": [
        "# Set hyperparameters\n",
        "learning_rate = 0.01\n",
        "epochs = 1500\n",
        "\n",
        "# Training\n",
        "for epoch in range(epochs):\n",
        "    # Forward pass\n",
        "    hidden_layer_input = np.dot(X, weights_input_hidden) + bias_hidden\n",
        "    hidden_layer_output = np.maximum(0, hidden_layer_input)  # ReLU activation function\n",
        "    output_layer_input = np.dot(hidden_layer_output, weights_hidden_output) + bias_output\n",
        "    predicted_y = output_layer_input\n",
        "\n",
        "    # Compute loss (mean squared error)\n",
        "    loss = np.mean((predicted_y - y)**2)\n",
        "\n",
        "    # Gradient of the loss with respect to the predicted output\n",
        "    grad_output = 2 * (predicted_y - y) / X.shape[0]\n",
        "\n",
        "    # Gradient of the loss with respect to the weights and biases of the output layer\n",
        "    grad_weights_hidden_output = np.dot(hidden_layer_output.T, grad_output)\n",
        "    grad_bias_output = np.sum(grad_output, axis=0, keepdims=True)\n",
        "\n",
        "    # Gradient of the loss with respect to the hidden layer output\n",
        "    grad_hidden_output = np.dot(grad_output, weights_hidden_output.T)\n",
        "\n",
        "    # Gradient of the loss with respect to the hidden layer input\n",
        "    grad_hidden_input = grad_hidden_output * (hidden_layer_input > 0)\n",
        "\n",
        "    # Gradient of the loss with respect to the weights and biases of the hidden layer\n",
        "    grad_weights_input_hidden = np.dot(X.T, grad_hidden_input)\n",
        "    grad_bias_hidden = np.sum(grad_hidden_input, axis=0, keepdims=True)\n",
        "\n",
        "    # Update weights and biases using gradient descent\n",
        "    weights_input_hidden -= learning_rate * grad_weights_input_hidden\n",
        "    bias_hidden -= learning_rate * grad_bias_hidden\n",
        "    weights_hidden_output -= learning_rate * grad_weights_hidden_output\n",
        "    bias_output -= learning_rate * grad_bias_output\n",
        "\n",
        "    # Print the loss every 100 epochs\n",
        "    if epoch % 100 == 0:\n",
        "        print(f'Epoch {epoch}, Loss: {loss}')"
      ],
      "metadata": {
        "colab": {
          "base_uri": "https://localhost:8080/"
        },
        "id": "kFT8l-mqeJak",
        "outputId": "b55bf1d0-8b79-439f-9eed-eb5114245e7f"
      },
      "execution_count": 32,
      "outputs": [
        {
          "output_type": "stream",
          "name": "stdout",
          "text": [
            "Epoch 0, Loss: 11.345666116782384\n",
            "Epoch 100, Loss: 5.549304169339966\n",
            "Epoch 200, Loss: 4.849138254867246\n",
            "Epoch 300, Loss: 3.9944297648338756\n",
            "Epoch 400, Loss: 2.4877397255886593\n",
            "Epoch 500, Loss: 1.7284335500759704\n",
            "Epoch 600, Loss: 1.292705317936548\n",
            "Epoch 700, Loss: 1.0171361778177175\n",
            "Epoch 800, Loss: 0.8236577288761623\n",
            "Epoch 900, Loss: 0.6731008134266172\n",
            "Epoch 1000, Loss: 0.5530062610231709\n",
            "Epoch 1100, Loss: 0.4582811036802987\n",
            "Epoch 1200, Loss: 0.3837469290668148\n",
            "Epoch 1300, Loss: 0.32341310015454416\n",
            "Epoch 1400, Loss: 0.27302756457560345\n"
          ]
        }
      ]
    },
    {
      "cell_type": "markdown",
      "source": [
        "Testing"
      ],
      "metadata": {
        "id": "iga58xFyqBL8"
      }
    },
    {
      "cell_type": "code",
      "source": [
        "# Generate test data\n",
        "X_test = np.random.uniform(-3, 3, (100, 1))\n",
        "y_test = X_test ** 2\n",
        "\n",
        "hidden_layer_input_test = np.dot(X_test, weights_input_hidden) + bias_hidden\n",
        "hidden_layer_output_test = np.maximum(0, hidden_layer_input_test)\n",
        "output_layer_input_test = np.dot(hidden_layer_output_test, weights_hidden_output) + bias_output\n",
        "predicted_y_test = output_layer_input_test\n",
        "\n",
        "# Compute loss on the test data\n",
        "test_loss = np.mean((predicted_y_test - y_test) ** 2)\n",
        "\n",
        "print(f'Test Loss: {test_loss}')\n"
      ],
      "metadata": {
        "colab": {
          "base_uri": "https://localhost:8080/"
        },
        "id": "o5TkHDSleNkt",
        "outputId": "878edc4c-44f4-4443-ab9f-4a3d15fdabc1"
      },
      "execution_count": 33,
      "outputs": [
        {
          "output_type": "stream",
          "name": "stdout",
          "text": [
            "Test Loss: 0.23061411488926256\n"
          ]
        }
      ]
    },
    {
      "cell_type": "markdown",
      "source": [
        "Plot The True And Predicted Values"
      ],
      "metadata": {
        "id": "btr0QicHqI5b"
      }
    },
    {
      "cell_type": "code",
      "source": [
        "plt.scatter(X_test, y_test, label='True values (y = x^2)')\n",
        "plt.scatter(X_test, predicted_y_test, label='Predicted values', marker='x')\n",
        "plt.title('True vs Predicted Values')\n",
        "plt.xlabel('X')\n",
        "plt.ylabel('y')\n",
        "plt.legend()\n",
        "plt.show()"
      ],
      "metadata": {
        "colab": {
          "base_uri": "https://localhost:8080/",
          "height": 472
        },
        "id": "9JCZpsxJojcj",
        "outputId": "2780a6ce-e866-4211-a71d-f7ec6bae6e4c"
      },
      "execution_count": 34,
      "outputs": [
        {
          "output_type": "display_data",
          "data": {
            "text/plain": [
              "<Figure size 640x480 with 1 Axes>"
            ],
            "image/png": "[encoded data removed]"
          },
          "metadata": {}
        }
      ]
    }
  ]
}